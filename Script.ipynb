{
  "nbformat": 4,
  "nbformat_minor": 0,
  "metadata": {
    "colab": {
      "provenance": []
    },
    "kernelspec": {
      "name": "python3",
      "display_name": "Python 3"
    },
    "language_info": {
      "name": "python"
    }
  },
  "cells": [
    {
      "cell_type": "code",
      "source": [
        "!pip install tflite-runtime"
      ],
      "metadata": {
        "id": "mfNL7_zt4Q9N",
        "colab": {
          "base_uri": "https://localhost:8080/"
        },
        "outputId": "4c2bab81-7c8d-401a-a714-a818e2e521e7"
      },
      "execution_count": null,
      "outputs": [
        {
          "output_type": "stream",
          "name": "stdout",
          "text": [
            "Collecting tflite-runtime\n",
            "  Downloading tflite_runtime-2.14.0-cp310-cp310-manylinux2014_x86_64.whl (2.4 MB)\n",
            "\u001b[2K     \u001b[90m━━━━━━━━━━━━━━━━━━━━━━━━━━━━━━━━━━━━━━━━\u001b[0m \u001b[32m2.4/2.4 MB\u001b[0m \u001b[31m9.8 MB/s\u001b[0m eta \u001b[36m0:00:00\u001b[0m\n",
            "\u001b[?25hRequirement already satisfied: numpy>=1.23.2 in /usr/local/lib/python3.10/dist-packages (from tflite-runtime) (1.25.2)\n",
            "Installing collected packages: tflite-runtime\n",
            "Successfully installed tflite-runtime-2.14.0\n"
          ]
        }
      ]
    },
    {
      "cell_type": "code",
      "source": [
        "import numpy as np\n",
        "import pandas as pd\n",
        "import tensorflow as tf\n",
        "from tensorflow.keras.preprocessing import image\n",
        "from tflite_runtime.interpreter import Interpreter\n",
        "\n"
      ],
      "metadata": {
        "id": "qU1D67Vi02Mg"
      },
      "execution_count": null,
      "outputs": []
    },
    {
      "cell_type": "code",
      "source": [
        "from google.colab import drive\n",
        "drive.mount('/content/drive')"
      ],
      "metadata": {
        "colab": {
          "base_uri": "https://localhost:8080/"
        },
        "id": "suMHdxp75fSm",
        "outputId": "6c692066-f7c4-4350-a594-f48254d81443"
      },
      "execution_count": null,
      "outputs": [
        {
          "output_type": "stream",
          "name": "stdout",
          "text": [
            "Mounted at /content/drive\n"
          ]
        }
      ]
    },
    {
      "cell_type": "code",
      "source": [
        "# Memuat model TFLite\n",
        "model_path = '/content/drive/MyDrive/Capstone Project/model.tflite'\n",
        "interpreter = Interpreter(model_path=model_path)\n",
        "interpreter.allocate_tensors()\n",
        "\n",
        "\n"
      ],
      "metadata": {
        "id": "-jqoDWrJ07Bi"
      },
      "execution_count": null,
      "outputs": []
    },
    {
      "cell_type": "code",
      "source": [
        "# Mendapatkan detail input dan output\n",
        "input_details = interpreter.get_input_details()\n",
        "output_details = interpreter.get_output_details()\n",
        "\n"
      ],
      "metadata": {
        "id": "JD5lRTks088y"
      },
      "execution_count": null,
      "outputs": []
    },
    {
      "cell_type": "code",
      "source": [
        "print(input_details)\n",
        "print(output_details)"
      ],
      "metadata": {
        "id": "jCSu0XU16H5C",
        "outputId": "22115a7e-ef77-4bd3-c81e-596ae67a1200",
        "colab": {
          "base_uri": "https://localhost:8080/"
        }
      },
      "execution_count": null,
      "outputs": [
        {
          "output_type": "stream",
          "name": "stdout",
          "text": [
            "[{'name': 'serving_default_input_1:0', 'index': 0, 'shape': array([  1, 224, 224,   3], dtype=int32), 'shape_signature': array([ -1, 224, 224,   3], dtype=int32), 'dtype': <class 'numpy.float32'>, 'quantization': (0.0, 0), 'quantization_parameters': {'scales': array([], dtype=float32), 'zero_points': array([], dtype=int32), 'quantized_dimension': 0}, 'sparsity_parameters': {}}]\n",
            "[{'name': 'StatefulPartitionedCall:0', 'index': 276, 'shape': array([ 1, 71], dtype=int32), 'shape_signature': array([-1, 71], dtype=int32), 'dtype': <class 'numpy.float32'>, 'quantization': (0.0, 0), 'quantization_parameters': {'scales': array([], dtype=float32), 'zero_points': array([], dtype=int32), 'quantized_dimension': 0}, 'sparsity_parameters': {}}]\n"
          ]
        }
      ]
    },
    {
      "cell_type": "code",
      "source": [
        "# Periksa detail input\n",
        "input_shape = input_details[0]['shape']\n",
        "print(\"Expected input shape:\", input_shape)\n",
        "\n",
        "def prepare_image(img_path, target_size):\n",
        "    img = image.load_img(img_path, target_size=target_size)\n",
        "    img_array = image.img_to_array(img)\n",
        "    img_array = np.expand_dims(img_array, axis=0)\n",
        "    img_array = img_array / 255.0  # Rescale seperti yang dilakukan saat pelatihan\n",
        "    return img_array\n",
        "\n"
      ],
      "metadata": {
        "colab": {
          "base_uri": "https://localhost:8080/"
        },
        "id": "a1qiuDJ40_7Z",
        "outputId": "529d8a1a-9d1c-4ede-bab9-2db8e889055d"
      },
      "execution_count": null,
      "outputs": [
        {
          "output_type": "stream",
          "name": "stdout",
          "text": [
            "Expected input shape: [  1 224 224   3]\n"
          ]
        }
      ]
    },
    {
      "cell_type": "code",
      "source": [
        "img_path = '/content/kucing blur.jpg'  # Ganti dengan path gambar yang akan diprediksi\n",
        "img = prepare_image(img_path, target_size=(input_shape[1], input_shape[2]))\n",
        "\n"
      ],
      "metadata": {
        "id": "YNgkZDJY1DAt"
      },
      "execution_count": null,
      "outputs": []
    },
    {
      "cell_type": "code",
      "source": [
        "# Menyiapkan input untuk interpreter\n",
        "interpreter.set_tensor(input_details[0]['index'], img)\n",
        "\n"
      ],
      "metadata": {
        "id": "tJYVTOLZ1EfY"
      },
      "execution_count": null,
      "outputs": []
    },
    {
      "cell_type": "code",
      "source": [
        "# Melakukan inferensi\n",
        "interpreter.invoke()\n",
        "\n"
      ],
      "metadata": {
        "id": "MPKdDSD_1Fu4"
      },
      "execution_count": null,
      "outputs": []
    },
    {
      "cell_type": "code",
      "source": [
        "# Mengambil hasil prediksi\n",
        "predictions = interpreter.get_tensor(output_details[0]['index'])\n",
        "\n",
        "\n",
        "\n"
      ],
      "metadata": {
        "id": "jkp8O1hP1Hlk"
      },
      "execution_count": null,
      "outputs": []
    },
    {
      "cell_type": "code",
      "source": [
        "# Mendapatkan urutan kelas dari file CSV\n",
        "class_indices = '/content/drive/MyDrive/Capstone Project/class_indices.csv'\n",
        "class_indices_df = pd.read_csv(class_indices)\n",
        "labels = class_indices_df['class_name'].str.title().tolist()"
      ],
      "metadata": {
        "id": "C9jRRs071NRN"
      },
      "execution_count": null,
      "outputs": []
    },
    {
      "cell_type": "code",
      "source": [
        "predicted_class = np.argmax(predictions[0])  # Mengambil indeks kelas dengan probabilitas tertinggi\n",
        "probabilities = predictions[0]\n",
        "for i, prob in enumerate(probabilities):\n",
        "    print(f\"Class {labels[i]}: {prob * 100:.2f}%\")"
      ],
      "metadata": {
        "colab": {
          "base_uri": "https://localhost:8080/"
        },
        "id": "Shyhnrap1LAI",
        "outputId": "9c885233-c4f8-408c-b007-e25200f44f03"
      },
      "execution_count": null,
      "outputs": [
        {
          "output_type": "stream",
          "name": "stdout",
          "text": [
            "Class Bantal: 0.00%\n",
            "Class Beruang: 0.03%\n",
            "Class Botol Minum: 0.00%\n",
            "Class Buah Belimbing: 0.00%\n",
            "Class Buah Kelengkeng: 0.00%\n",
            "Class Buah Kesemek: 0.00%\n",
            "Class Buah Leci: 0.00%\n",
            "Class Buah Manggis: 0.00%\n",
            "Class Buah Markisa: 0.00%\n",
            "Class Buah Naga: 0.00%\n",
            "Class Buah Nangka: 0.00%\n",
            "Class Buah Pepaya: 0.00%\n",
            "Class Buah Semangka: 0.00%\n",
            "Class Buah Sirsak: 0.00%\n",
            "Class Burung: 0.01%\n",
            "Class Dompet: 0.00%\n",
            "Class Durian: 0.00%\n",
            "Class Gajah: 0.00%\n",
            "Class Garpu: 0.00%\n",
            "Class Gelas: 0.00%\n",
            "Class Gunting: 0.00%\n",
            "Class Jam Dinding: 0.00%\n",
            "Class Jam Tangan: 0.00%\n",
            "Class Jeruk Bali: 0.00%\n",
            "Class Kacamata: 0.00%\n",
            "Class Kangguru: 0.42%\n",
            "Class Kantong Plastik: 0.00%\n",
            "Class Kasur: 0.00%\n",
            "Class Katak: 0.00%\n",
            "Class Kertas: 0.00%\n",
            "Class Komputer: 0.04%\n",
            "Class Korek Api: 0.00%\n",
            "Class Kucing: 98.99%\n",
            "Class Kulkas: 0.00%\n",
            "Class Kumbang: 0.00%\n",
            "Class Kunci: 0.00%\n",
            "Class Kupu-Kupu: 0.00%\n",
            "Class Kursi: 0.00%\n",
            "Class Langit: 0.00%\n",
            "Class Laptop: 0.00%\n",
            "Class Lebah: 0.00%\n",
            "Class Lemari: 0.00%\n",
            "Class Mangkuk: 0.00%\n",
            "Class Meja: 0.00%\n",
            "Class Mesin Jahit: 0.00%\n",
            "Class Mobil: 0.00%\n",
            "Class Motor: 0.00%\n",
            "Class Paus: 0.00%\n",
            "Class Payung: 0.00%\n",
            "Class Penanda Jalan: 0.00%\n",
            "Class Penggaris: 0.00%\n",
            "Class Pensil: 0.00%\n",
            "Class Piring: 0.00%\n",
            "Class Pisau: 0.00%\n",
            "Class Pot Bunga: 0.00%\n",
            "Class Rambutan: 0.00%\n",
            "Class Ransel: 0.00%\n",
            "Class Salak: 0.00%\n",
            "Class Sapi: 0.02%\n",
            "Class Sapu: 0.00%\n",
            "Class Sendok: 0.00%\n",
            "Class Sepeda: 0.00%\n",
            "Class Setrika: 0.00%\n",
            "Class Singa: 0.00%\n",
            "Class Stopkontak: 0.49%\n",
            "Class Tas: 0.00%\n",
            "Class Telepon Genggam: 0.00%\n",
            "Class Timbangan Dapur: 0.00%\n",
            "Class Tomat: 0.00%\n",
            "Class Topi: 0.00%\n",
            "Class Uang: 0.00%\n"
          ]
        }
      ]
    },
    {
      "cell_type": "code",
      "source": [
        "print(\"Predicted class:\", labels[predicted_class])"
      ],
      "metadata": {
        "colab": {
          "base_uri": "https://localhost:8080/"
        },
        "id": "Yh8x24kd22lf",
        "outputId": "2a797037-1dc7-4f13-a425-05ab1f0d3f3e"
      },
      "execution_count": null,
      "outputs": [
        {
          "output_type": "stream",
          "name": "stdout",
          "text": [
            "Predicted class: Kucing\n"
          ]
        }
      ]
    }
  ]
}