{
  "cells": [
    {
      "cell_type": "markdown",
      "metadata": {
        "id": "sYoQSUhH2qvE"
      },
      "source": [
        "# Generate Dataset"
      ]
    },
    {
      "cell_type": "markdown",
      "metadata": {
        "id": "zaKxTWiF2uDb"
      },
      "source": [
        "## Install library yang diperlukan"
      ]
    },
    {
      "cell_type": "code",
      "execution_count": null,
      "metadata": {
        "colab": {
          "base_uri": "https://localhost:8080/"
        },
        "id": "gnx1GwX1bEp-",
        "outputId": "49023d21-565a-4f20-9d15-e3265fd59f53"
      },
      "outputs": [
        {
          "name": "stdout",
          "output_type": "stream",
          "text": [
            "Collecting simple_image_download\n",
            "  Downloading simple_image_download-0.5-py3-none-any.whl (7.0 kB)\n",
            "Requirement already satisfied: requests in /usr/local/lib/python3.10/dist-packages (from simple_image_download) (2.31.0)\n",
            "INFO: pip is looking at multiple versions of simple-image-download to determine which version is compatible with other requirements. This could take a while.\n",
            "  Downloading simple_image_download-0.4-py3-none-any.whl (4.9 kB)\n",
            "  Downloading simple_image_download-0.2-py3-none-any.whl (3.8 kB)\n",
            "Requirement already satisfied: charset-normalizer<4,>=2 in /usr/local/lib/python3.10/dist-packages (from requests->simple_image_download) (3.3.2)\n",
            "Requirement already satisfied: idna<4,>=2.5 in /usr/local/lib/python3.10/dist-packages (from requests->simple_image_download) (3.7)\n",
            "Requirement already satisfied: urllib3<3,>=1.21.1 in /usr/local/lib/python3.10/dist-packages (from requests->simple_image_download) (2.0.7)\n",
            "Requirement already satisfied: certifi>=2017.4.17 in /usr/local/lib/python3.10/dist-packages (from requests->simple_image_download) (2024.6.2)\n",
            "Installing collected packages: simple_image_download\n",
            "Successfully installed simple_image_download-0.2\n"
          ]
        }
      ],
      "source": [
        "!pip install simple_image_download"
      ]
    },
    {
      "cell_type": "markdown",
      "metadata": {
        "id": "v9l-20dq2zjP"
      },
      "source": [
        "## Buat folder train dan val"
      ]
    },
    {
      "cell_type": "code",
      "execution_count": null,
      "metadata": {
        "id": "r8z5b7FKg49y"
      },
      "outputs": [],
      "source": [
        "import os\n",
        "train_dir = os.path.join(\"dataset\", \"train\")\n",
        "val_dir = os.path.join(\"dataset\", \"validation\")\n",
        "os.makedirs(train_dir, exist_ok=True)\n",
        "os.makedirs(val_dir, exist_ok=True)"
      ]
    },
    {
      "cell_type": "markdown",
      "metadata": {
        "id": "B0q3HTG023Hu"
      },
      "source": [
        "## Download images dari google"
      ]
    },
    {
      "cell_type": "code",
      "execution_count": null,
      "metadata": {
        "colab": {
          "base_uri": "https://localhost:8080/",
          "height": 356
        },
        "id": "b0cnq4dNgLwa",
        "outputId": "a0684102-710b-4316-b758-3b49e4a15379"
      },
      "outputs": [
        {
          "ename": "KeyboardInterrupt",
          "evalue": "",
          "output_type": "error",
          "traceback": [
            "\u001b[0;31m---------------------------------------------------------------------------\u001b[0m",
            "\u001b[0;31mKeyboardInterrupt\u001b[0m                         Traceback (most recent call last)",
            "\u001b[0;32m<ipython-input-4-fe2ab2cf21eb>\u001b[0m in \u001b[0;36m<cell line: 10>\u001b[0;34m()\u001b[0m\n\u001b[1;32m      9\u001b[0m      'kasur', 'televisi']\n\u001b[1;32m     10\u001b[0m \u001b[0;32mfor\u001b[0m \u001b[0mrep\u001b[0m \u001b[0;32min\u001b[0m \u001b[0mlst\u001b[0m\u001b[0;34m:\u001b[0m\u001b[0;34m\u001b[0m\u001b[0;34m\u001b[0m\u001b[0m\n\u001b[0;32m---> 11\u001b[0;31m  \u001b[0mresponse\u001b[0m\u001b[0;34m(\u001b[0m\u001b[0;34m)\u001b[0m\u001b[0;34m.\u001b[0m\u001b[0mdownload\u001b[0m\u001b[0;34m(\u001b[0m\u001b[0mrep\u001b[0m\u001b[0;34m,\u001b[0m \u001b[0;36m200\u001b[0m\u001b[0;34m)\u001b[0m\u001b[0;34m\u001b[0m\u001b[0;34m\u001b[0m\u001b[0m\n\u001b[0m",
            "\u001b[0;32m/usr/local/lib/python3.10/dist-packages/simple_image_download/simple_image_download.py\u001b[0m in \u001b[0;36mdownload\u001b[0;34m(self, keywords, limit)\u001b[0m\n\u001b[1;32m     92\u001b[0m \u001b[0;34m\u001b[0m\u001b[0m\n\u001b[1;32m     93\u001b[0m                 \u001b[0;32mtry\u001b[0m\u001b[0;34m:\u001b[0m\u001b[0;34m\u001b[0m\u001b[0;34m\u001b[0m\u001b[0m\n\u001b[0;32m---> 94\u001b[0;31m                     \u001b[0mr\u001b[0m \u001b[0;34m=\u001b[0m \u001b[0mrequests\u001b[0m\u001b[0;34m.\u001b[0m\u001b[0mget\u001b[0m\u001b[0;34m(\u001b[0m\u001b[0mobject_raw\u001b[0m\u001b[0;34m,\u001b[0m \u001b[0mallow_redirects\u001b[0m\u001b[0;34m=\u001b[0m\u001b[0;32mTrue\u001b[0m\u001b[0;34m)\u001b[0m\u001b[0;34m\u001b[0m\u001b[0;34m\u001b[0m\u001b[0m\n\u001b[0m\u001b[1;32m     95\u001b[0m                     \u001b[0mopen\u001b[0m\u001b[0;34m(\u001b[0m\u001b[0mos\u001b[0m\u001b[0;34m.\u001b[0m\u001b[0mpath\u001b[0m\u001b[0;34m.\u001b[0m\u001b[0mjoin\u001b[0m\u001b[0;34m(\u001b[0m\u001b[0mpath\u001b[0m\u001b[0;34m,\u001b[0m \u001b[0mfilename\u001b[0m\u001b[0;34m)\u001b[0m\u001b[0;34m,\u001b[0m \u001b[0;34m'wb'\u001b[0m\u001b[0;34m)\u001b[0m\u001b[0;34m.\u001b[0m\u001b[0mwrite\u001b[0m\u001b[0;34m(\u001b[0m\u001b[0mr\u001b[0m\u001b[0;34m.\u001b[0m\u001b[0mcontent\u001b[0m\u001b[0;34m)\u001b[0m\u001b[0;34m\u001b[0m\u001b[0;34m\u001b[0m\u001b[0m\n\u001b[1;32m     96\u001b[0m                 \u001b[0;32mexcept\u001b[0m \u001b[0mException\u001b[0m \u001b[0;32mas\u001b[0m \u001b[0me\u001b[0m\u001b[0;34m:\u001b[0m\u001b[0;34m\u001b[0m\u001b[0;34m\u001b[0m\u001b[0m\n",
            "\u001b[0;32m/usr/local/lib/python3.10/dist-packages/requests/api.py\u001b[0m in \u001b[0;36mget\u001b[0;34m(url, params, **kwargs)\u001b[0m\n\u001b[1;32m     71\u001b[0m     \"\"\"\n\u001b[1;32m     72\u001b[0m \u001b[0;34m\u001b[0m\u001b[0m\n\u001b[0;32m---> 73\u001b[0;31m     \u001b[0;32mreturn\u001b[0m \u001b[0mrequest\u001b[0m\u001b[0;34m(\u001b[0m\u001b[0;34m\"get\"\u001b[0m\u001b[0;34m,\u001b[0m \u001b[0murl\u001b[0m\u001b[0;34m,\u001b[0m \u001b[0mparams\u001b[0m\u001b[0;34m=\u001b[0m\u001b[0mparams\u001b[0m\u001b[0;34m,\u001b[0m \u001b[0;34m**\u001b[0m\u001b[0mkwargs\u001b[0m\u001b[0;34m)\u001b[0m\u001b[0;34m\u001b[0m\u001b[0;34m\u001b[0m\u001b[0m\n\u001b[0m\u001b[1;32m     74\u001b[0m \u001b[0;34m\u001b[0m\u001b[0m\n\u001b[1;32m     75\u001b[0m \u001b[0;34m\u001b[0m\u001b[0m\n",
            "\u001b[0;32m/usr/local/lib/python3.10/dist-packages/requests/api.py\u001b[0m in \u001b[0;36mrequest\u001b[0;34m(method, url, **kwargs)\u001b[0m\n\u001b[1;32m     57\u001b[0m     \u001b[0;31m# cases, and look like a memory leak in others.\u001b[0m\u001b[0;34m\u001b[0m\u001b[0;34m\u001b[0m\u001b[0m\n\u001b[1;32m     58\u001b[0m     \u001b[0;32mwith\u001b[0m \u001b[0msessions\u001b[0m\u001b[0;34m.\u001b[0m\u001b[0mSession\u001b[0m\u001b[0;34m(\u001b[0m\u001b[0;34m)\u001b[0m \u001b[0;32mas\u001b[0m \u001b[0msession\u001b[0m\u001b[0;34m:\u001b[0m\u001b[0;34m\u001b[0m\u001b[0;34m\u001b[0m\u001b[0m\n\u001b[0;32m---> 59\u001b[0;31m         \u001b[0;32mreturn\u001b[0m \u001b[0msession\u001b[0m\u001b[0;34m.\u001b[0m\u001b[0mrequest\u001b[0m\u001b[0;34m(\u001b[0m\u001b[0mmethod\u001b[0m\u001b[0;34m=\u001b[0m\u001b[0mmethod\u001b[0m\u001b[0;34m,\u001b[0m \u001b[0murl\u001b[0m\u001b[0;34m=\u001b[0m\u001b[0murl\u001b[0m\u001b[0;34m,\u001b[0m \u001b[0;34m**\u001b[0m\u001b[0mkwargs\u001b[0m\u001b[0;34m)\u001b[0m\u001b[0;34m\u001b[0m\u001b[0;34m\u001b[0m\u001b[0m\n\u001b[0m\u001b[1;32m     60\u001b[0m \u001b[0;34m\u001b[0m\u001b[0m\n\u001b[1;32m     61\u001b[0m \u001b[0;34m\u001b[0m\u001b[0m\n",
            "\u001b[0;32m/usr/local/lib/python3.10/dist-packages/requests/sessions.py\u001b[0m in \u001b[0;36mrequest\u001b[0;34m(self, method, url, params, data, headers, cookies, files, auth, timeout, allow_redirects, proxies, hooks, stream, verify, cert, json)\u001b[0m\n\u001b[1;32m    587\u001b[0m         }\n\u001b[1;32m    588\u001b[0m         \u001b[0msend_kwargs\u001b[0m\u001b[0;34m.\u001b[0m\u001b[0mupdate\u001b[0m\u001b[0;34m(\u001b[0m\u001b[0msettings\u001b[0m\u001b[0;34m)\u001b[0m\u001b[0;34m\u001b[0m\u001b[0;34m\u001b[0m\u001b[0m\n\u001b[0;32m--> 589\u001b[0;31m         \u001b[0mresp\u001b[0m \u001b[0;34m=\u001b[0m \u001b[0mself\u001b[0m\u001b[0;34m.\u001b[0m\u001b[0msend\u001b[0m\u001b[0;34m(\u001b[0m\u001b[0mprep\u001b[0m\u001b[0;34m,\u001b[0m \u001b[0;34m**\u001b[0m\u001b[0msend_kwargs\u001b[0m\u001b[0;34m)\u001b[0m\u001b[0;34m\u001b[0m\u001b[0;34m\u001b[0m\u001b[0m\n\u001b[0m\u001b[1;32m    590\u001b[0m \u001b[0;34m\u001b[0m\u001b[0m\n\u001b[1;32m    591\u001b[0m         \u001b[0;32mreturn\u001b[0m \u001b[0mresp\u001b[0m\u001b[0;34m\u001b[0m\u001b[0;34m\u001b[0m\u001b[0m\n",
            "\u001b[0;32m/usr/local/lib/python3.10/dist-packages/requests/sessions.py\u001b[0m in \u001b[0;36msend\u001b[0;34m(self, request, **kwargs)\u001b[0m\n\u001b[1;32m    701\u001b[0m \u001b[0;34m\u001b[0m\u001b[0m\n\u001b[1;32m    702\u001b[0m         \u001b[0;31m# Send the request\u001b[0m\u001b[0;34m\u001b[0m\u001b[0;34m\u001b[0m\u001b[0m\n\u001b[0;32m--> 703\u001b[0;31m         \u001b[0mr\u001b[0m \u001b[0;34m=\u001b[0m \u001b[0madapter\u001b[0m\u001b[0;34m.\u001b[0m\u001b[0msend\u001b[0m\u001b[0;34m(\u001b[0m\u001b[0mrequest\u001b[0m\u001b[0;34m,\u001b[0m \u001b[0;34m**\u001b[0m\u001b[0mkwargs\u001b[0m\u001b[0;34m)\u001b[0m\u001b[0;34m\u001b[0m\u001b[0;34m\u001b[0m\u001b[0m\n\u001b[0m\u001b[1;32m    704\u001b[0m \u001b[0;34m\u001b[0m\u001b[0m\n\u001b[1;32m    705\u001b[0m         \u001b[0;31m# Total elapsed time of the request (approximately)\u001b[0m\u001b[0;34m\u001b[0m\u001b[0;34m\u001b[0m\u001b[0m\n",
            "\u001b[0;32m/usr/local/lib/python3.10/dist-packages/requests/adapters.py\u001b[0m in \u001b[0;36msend\u001b[0;34m(self, request, stream, timeout, verify, cert, proxies)\u001b[0m\n\u001b[1;32m    484\u001b[0m \u001b[0;34m\u001b[0m\u001b[0m\n\u001b[1;32m    485\u001b[0m         \u001b[0;32mtry\u001b[0m\u001b[0;34m:\u001b[0m\u001b[0;34m\u001b[0m\u001b[0;34m\u001b[0m\u001b[0m\n\u001b[0;32m--> 486\u001b[0;31m             resp = conn.urlopen(\n\u001b[0m\u001b[1;32m    487\u001b[0m                 \u001b[0mmethod\u001b[0m\u001b[0;34m=\u001b[0m\u001b[0mrequest\u001b[0m\u001b[0;34m.\u001b[0m\u001b[0mmethod\u001b[0m\u001b[0;34m,\u001b[0m\u001b[0;34m\u001b[0m\u001b[0;34m\u001b[0m\u001b[0m\n\u001b[1;32m    488\u001b[0m                 \u001b[0murl\u001b[0m\u001b[0;34m=\u001b[0m\u001b[0murl\u001b[0m\u001b[0;34m,\u001b[0m\u001b[0;34m\u001b[0m\u001b[0;34m\u001b[0m\u001b[0m\n",
            "\u001b[0;32m/usr/local/lib/python3.10/dist-packages/urllib3/connectionpool.py\u001b[0m in \u001b[0;36murlopen\u001b[0;34m(self, method, url, body, headers, retries, redirect, assert_same_host, timeout, pool_timeout, release_conn, chunked, body_pos, preload_content, decode_content, **response_kw)\u001b[0m\n\u001b[1;32m    789\u001b[0m \u001b[0;34m\u001b[0m\u001b[0m\n\u001b[1;32m    790\u001b[0m             \u001b[0;31m# Make the request on the HTTPConnection object\u001b[0m\u001b[0;34m\u001b[0m\u001b[0;34m\u001b[0m\u001b[0m\n\u001b[0;32m--> 791\u001b[0;31m             response = self._make_request(\n\u001b[0m\u001b[1;32m    792\u001b[0m                 \u001b[0mconn\u001b[0m\u001b[0;34m,\u001b[0m\u001b[0;34m\u001b[0m\u001b[0;34m\u001b[0m\u001b[0m\n\u001b[1;32m    793\u001b[0m                 \u001b[0mmethod\u001b[0m\u001b[0;34m,\u001b[0m\u001b[0;34m\u001b[0m\u001b[0;34m\u001b[0m\u001b[0m\n",
            "\u001b[0;32m/usr/local/lib/python3.10/dist-packages/urllib3/connectionpool.py\u001b[0m in \u001b[0;36m_make_request\u001b[0;34m(self, conn, method, url, body, headers, retries, timeout, chunked, response_conn, preload_content, decode_content, enforce_content_length)\u001b[0m\n\u001b[1;32m    466\u001b[0m             \u001b[0;31m# Trigger any extra validation we need to do.\u001b[0m\u001b[0;34m\u001b[0m\u001b[0;34m\u001b[0m\u001b[0m\n\u001b[1;32m    467\u001b[0m             \u001b[0;32mtry\u001b[0m\u001b[0;34m:\u001b[0m\u001b[0;34m\u001b[0m\u001b[0;34m\u001b[0m\u001b[0m\n\u001b[0;32m--> 468\u001b[0;31m                 \u001b[0mself\u001b[0m\u001b[0;34m.\u001b[0m\u001b[0m_validate_conn\u001b[0m\u001b[0;34m(\u001b[0m\u001b[0mconn\u001b[0m\u001b[0;34m)\u001b[0m\u001b[0;34m\u001b[0m\u001b[0;34m\u001b[0m\u001b[0m\n\u001b[0m\u001b[1;32m    469\u001b[0m             \u001b[0;32mexcept\u001b[0m \u001b[0;34m(\u001b[0m\u001b[0mSocketTimeout\u001b[0m\u001b[0;34m,\u001b[0m \u001b[0mBaseSSLError\u001b[0m\u001b[0;34m)\u001b[0m \u001b[0;32mas\u001b[0m \u001b[0me\u001b[0m\u001b[0;34m:\u001b[0m\u001b[0;34m\u001b[0m\u001b[0;34m\u001b[0m\u001b[0m\n\u001b[1;32m    470\u001b[0m                 \u001b[0mself\u001b[0m\u001b[0;34m.\u001b[0m\u001b[0m_raise_timeout\u001b[0m\u001b[0;34m(\u001b[0m\u001b[0merr\u001b[0m\u001b[0;34m=\u001b[0m\u001b[0me\u001b[0m\u001b[0;34m,\u001b[0m \u001b[0murl\u001b[0m\u001b[0;34m=\u001b[0m\u001b[0murl\u001b[0m\u001b[0;34m,\u001b[0m \u001b[0mtimeout_value\u001b[0m\u001b[0;34m=\u001b[0m\u001b[0mconn\u001b[0m\u001b[0;34m.\u001b[0m\u001b[0mtimeout\u001b[0m\u001b[0;34m)\u001b[0m\u001b[0;34m\u001b[0m\u001b[0;34m\u001b[0m\u001b[0m\n",
            "\u001b[0;32m/usr/local/lib/python3.10/dist-packages/urllib3/connectionpool.py\u001b[0m in \u001b[0;36m_validate_conn\u001b[0;34m(self, conn)\u001b[0m\n\u001b[1;32m   1095\u001b[0m         \u001b[0;31m# Force connect early to allow us to validate the connection.\u001b[0m\u001b[0;34m\u001b[0m\u001b[0;34m\u001b[0m\u001b[0m\n\u001b[1;32m   1096\u001b[0m         \u001b[0;32mif\u001b[0m \u001b[0mconn\u001b[0m\u001b[0;34m.\u001b[0m\u001b[0mis_closed\u001b[0m\u001b[0;34m:\u001b[0m\u001b[0;34m\u001b[0m\u001b[0;34m\u001b[0m\u001b[0m\n\u001b[0;32m-> 1097\u001b[0;31m             \u001b[0mconn\u001b[0m\u001b[0;34m.\u001b[0m\u001b[0mconnect\u001b[0m\u001b[0;34m(\u001b[0m\u001b[0;34m)\u001b[0m\u001b[0;34m\u001b[0m\u001b[0;34m\u001b[0m\u001b[0m\n\u001b[0m\u001b[1;32m   1098\u001b[0m \u001b[0;34m\u001b[0m\u001b[0m\n\u001b[1;32m   1099\u001b[0m         \u001b[0;32mif\u001b[0m \u001b[0;32mnot\u001b[0m \u001b[0mconn\u001b[0m\u001b[0;34m.\u001b[0m\u001b[0mis_verified\u001b[0m\u001b[0;34m:\u001b[0m\u001b[0;34m\u001b[0m\u001b[0;34m\u001b[0m\u001b[0m\n",
            "\u001b[0;32m/usr/local/lib/python3.10/dist-packages/urllib3/connection.py\u001b[0m in \u001b[0;36mconnect\u001b[0;34m(self)\u001b[0m\n\u001b[1;32m    609\u001b[0m     \u001b[0;32mdef\u001b[0m \u001b[0mconnect\u001b[0m\u001b[0;34m(\u001b[0m\u001b[0mself\u001b[0m\u001b[0;34m)\u001b[0m \u001b[0;34m->\u001b[0m \u001b[0;32mNone\u001b[0m\u001b[0;34m:\u001b[0m\u001b[0;34m\u001b[0m\u001b[0;34m\u001b[0m\u001b[0m\n\u001b[1;32m    610\u001b[0m         \u001b[0msock\u001b[0m\u001b[0;34m:\u001b[0m \u001b[0msocket\u001b[0m\u001b[0;34m.\u001b[0m\u001b[0msocket\u001b[0m \u001b[0;34m|\u001b[0m \u001b[0mssl\u001b[0m\u001b[0;34m.\u001b[0m\u001b[0mSSLSocket\u001b[0m\u001b[0;34m\u001b[0m\u001b[0;34m\u001b[0m\u001b[0m\n\u001b[0;32m--> 611\u001b[0;31m         \u001b[0mself\u001b[0m\u001b[0;34m.\u001b[0m\u001b[0msock\u001b[0m \u001b[0;34m=\u001b[0m \u001b[0msock\u001b[0m \u001b[0;34m=\u001b[0m \u001b[0mself\u001b[0m\u001b[0;34m.\u001b[0m\u001b[0m_new_conn\u001b[0m\u001b[0;34m(\u001b[0m\u001b[0;34m)\u001b[0m\u001b[0;34m\u001b[0m\u001b[0;34m\u001b[0m\u001b[0m\n\u001b[0m\u001b[1;32m    612\u001b[0m         \u001b[0mserver_hostname\u001b[0m\u001b[0;34m:\u001b[0m \u001b[0mstr\u001b[0m \u001b[0;34m=\u001b[0m \u001b[0mself\u001b[0m\u001b[0;34m.\u001b[0m\u001b[0mhost\u001b[0m\u001b[0;34m\u001b[0m\u001b[0;34m\u001b[0m\u001b[0m\n\u001b[1;32m    613\u001b[0m         \u001b[0mtls_in_tls\u001b[0m \u001b[0;34m=\u001b[0m \u001b[0;32mFalse\u001b[0m\u001b[0;34m\u001b[0m\u001b[0;34m\u001b[0m\u001b[0m\n",
            "\u001b[0;32m/usr/local/lib/python3.10/dist-packages/urllib3/connection.py\u001b[0m in \u001b[0;36m_new_conn\u001b[0;34m(self)\u001b[0m\n\u001b[1;32m    201\u001b[0m         \"\"\"\n\u001b[1;32m    202\u001b[0m         \u001b[0;32mtry\u001b[0m\u001b[0;34m:\u001b[0m\u001b[0;34m\u001b[0m\u001b[0;34m\u001b[0m\u001b[0m\n\u001b[0;32m--> 203\u001b[0;31m             sock = connection.create_connection(\n\u001b[0m\u001b[1;32m    204\u001b[0m                 \u001b[0;34m(\u001b[0m\u001b[0mself\u001b[0m\u001b[0;34m.\u001b[0m\u001b[0m_dns_host\u001b[0m\u001b[0;34m,\u001b[0m \u001b[0mself\u001b[0m\u001b[0;34m.\u001b[0m\u001b[0mport\u001b[0m\u001b[0;34m)\u001b[0m\u001b[0;34m,\u001b[0m\u001b[0;34m\u001b[0m\u001b[0;34m\u001b[0m\u001b[0m\n\u001b[1;32m    205\u001b[0m                 \u001b[0mself\u001b[0m\u001b[0;34m.\u001b[0m\u001b[0mtimeout\u001b[0m\u001b[0;34m,\u001b[0m\u001b[0;34m\u001b[0m\u001b[0;34m\u001b[0m\u001b[0m\n",
            "\u001b[0;32m/usr/local/lib/python3.10/dist-packages/urllib3/util/connection.py\u001b[0m in \u001b[0;36mcreate_connection\u001b[0;34m(address, timeout, source_address, socket_options)\u001b[0m\n\u001b[1;32m     58\u001b[0m         \u001b[0;32mraise\u001b[0m \u001b[0mLocationParseError\u001b[0m\u001b[0;34m(\u001b[0m\u001b[0;34mf\"'{host}', label empty or too long\"\u001b[0m\u001b[0;34m)\u001b[0m \u001b[0;32mfrom\u001b[0m \u001b[0;32mNone\u001b[0m\u001b[0;34m\u001b[0m\u001b[0;34m\u001b[0m\u001b[0m\n\u001b[1;32m     59\u001b[0m \u001b[0;34m\u001b[0m\u001b[0m\n\u001b[0;32m---> 60\u001b[0;31m     \u001b[0;32mfor\u001b[0m \u001b[0mres\u001b[0m \u001b[0;32min\u001b[0m \u001b[0msocket\u001b[0m\u001b[0;34m.\u001b[0m\u001b[0mgetaddrinfo\u001b[0m\u001b[0;34m(\u001b[0m\u001b[0mhost\u001b[0m\u001b[0;34m,\u001b[0m \u001b[0mport\u001b[0m\u001b[0;34m,\u001b[0m \u001b[0mfamily\u001b[0m\u001b[0;34m,\u001b[0m \u001b[0msocket\u001b[0m\u001b[0;34m.\u001b[0m\u001b[0mSOCK_STREAM\u001b[0m\u001b[0;34m)\u001b[0m\u001b[0;34m:\u001b[0m\u001b[0;34m\u001b[0m\u001b[0;34m\u001b[0m\u001b[0m\n\u001b[0m\u001b[1;32m     61\u001b[0m         \u001b[0maf\u001b[0m\u001b[0;34m,\u001b[0m \u001b[0msocktype\u001b[0m\u001b[0;34m,\u001b[0m \u001b[0mproto\u001b[0m\u001b[0;34m,\u001b[0m \u001b[0mcanonname\u001b[0m\u001b[0;34m,\u001b[0m \u001b[0msa\u001b[0m \u001b[0;34m=\u001b[0m \u001b[0mres\u001b[0m\u001b[0;34m\u001b[0m\u001b[0;34m\u001b[0m\u001b[0m\n\u001b[1;32m     62\u001b[0m         \u001b[0msock\u001b[0m \u001b[0;34m=\u001b[0m \u001b[0;32mNone\u001b[0m\u001b[0;34m\u001b[0m\u001b[0;34m\u001b[0m\u001b[0m\n",
            "\u001b[0;32m/usr/lib/python3.10/socket.py\u001b[0m in \u001b[0;36mgetaddrinfo\u001b[0;34m(host, port, family, type, proto, flags)\u001b[0m\n\u001b[1;32m    953\u001b[0m     \u001b[0;31m# and socket type values to enum constants.\u001b[0m\u001b[0;34m\u001b[0m\u001b[0;34m\u001b[0m\u001b[0m\n\u001b[1;32m    954\u001b[0m     \u001b[0maddrlist\u001b[0m \u001b[0;34m=\u001b[0m \u001b[0;34m[\u001b[0m\u001b[0;34m]\u001b[0m\u001b[0;34m\u001b[0m\u001b[0;34m\u001b[0m\u001b[0m\n\u001b[0;32m--> 955\u001b[0;31m     \u001b[0;32mfor\u001b[0m \u001b[0mres\u001b[0m \u001b[0;32min\u001b[0m \u001b[0m_socket\u001b[0m\u001b[0;34m.\u001b[0m\u001b[0mgetaddrinfo\u001b[0m\u001b[0;34m(\u001b[0m\u001b[0mhost\u001b[0m\u001b[0;34m,\u001b[0m \u001b[0mport\u001b[0m\u001b[0;34m,\u001b[0m \u001b[0mfamily\u001b[0m\u001b[0;34m,\u001b[0m \u001b[0mtype\u001b[0m\u001b[0;34m,\u001b[0m \u001b[0mproto\u001b[0m\u001b[0;34m,\u001b[0m \u001b[0mflags\u001b[0m\u001b[0;34m)\u001b[0m\u001b[0;34m:\u001b[0m\u001b[0;34m\u001b[0m\u001b[0;34m\u001b[0m\u001b[0m\n\u001b[0m\u001b[1;32m    956\u001b[0m         \u001b[0maf\u001b[0m\u001b[0;34m,\u001b[0m \u001b[0msocktype\u001b[0m\u001b[0;34m,\u001b[0m \u001b[0mproto\u001b[0m\u001b[0;34m,\u001b[0m \u001b[0mcanonname\u001b[0m\u001b[0;34m,\u001b[0m \u001b[0msa\u001b[0m \u001b[0;34m=\u001b[0m \u001b[0mres\u001b[0m\u001b[0;34m\u001b[0m\u001b[0;34m\u001b[0m\u001b[0m\n\u001b[1;32m    957\u001b[0m         addrlist.append((_intenum_converter(af, AddressFamily),\n",
            "\u001b[0;31mKeyboardInterrupt\u001b[0m: "
          ]
        }
      ],
      "source": [
        "from simple_image_download import simple_image_download as simp\n",
        "response = simp.simple_image_download\n",
        "lst=['mobil', 'motor', 'sepeda', 'jam tangan', 'kacamata', 'topi',\n",
        "     'payung', 'handphone', 'dompet', 'kunci',\n",
        "     'uang', 'kantong plastik', 'tas', 'buku',\n",
        "     'ransel', 'pensil', 'pulpen', 'kertas', 'kalkulator',\n",
        "     'sepatu', 'kipas angin', 'kompor', 'mesin cuci',\n",
        "     'sendok', 'mangkok', 'garpu', 'gelas', 'pisau', 'kursi', 'meja',\n",
        "     'kasur', 'televisi']\n",
        "for rep in lst:\n",
        " response().download(rep, 200)"
      ]
    },
    {
      "cell_type": "markdown",
      "metadata": {
        "id": "VWTiSsvM3BgL"
      },
      "source": [
        "## Pindahkan file gambar dari folder simple_images ke folder dataset train dan validation"
      ]
    },
    {
      "cell_type": "code",
      "execution_count": null,
      "metadata": {
        "id": "67Pzvlj_g4TU"
      },
      "outputs": [],
      "source": [
        "import shutil\n",
        "import random"
      ]
    },
    {
      "cell_type": "code",
      "execution_count": null,
      "metadata": {
        "id": "iCe6TOWflAdm"
      },
      "outputs": [],
      "source": [
        "# Replace with your actual folder paths\n",
        "source_dir = \"/content/simple_images\"  # Directory containing subfolders X, Y, and Z\n",
        "dataset_dir = \"/content/dataset\"  # Directory containing train and validation subfolders"
      ]
    },
    {
      "cell_type": "code",
      "execution_count": null,
      "metadata": {
        "id": "M20X0O7VlJVR"
      },
      "outputs": [],
      "source": [
        "split_ratio = 0.8"
      ]
    },
    {
      "cell_type": "code",
      "execution_count": null,
      "metadata": {
        "id": "bMewZKzTlKHB"
      },
      "outputs": [],
      "source": [
        "def move_files(source_path, destination_path, split_ratio):\n",
        "    # Get a list of all files in the source folder\n",
        "    files = os.listdir(source_path)\n",
        "\n",
        "    # Shuffle the list of files to randomize the order\n",
        "    random.shuffle(files)\n",
        "\n",
        "    # Calculate the number of files to move to training\n",
        "    num_train_files = int(len(files) * split_ratio)\n",
        "\n",
        "    # Move files to train and validation based on the split ratio\n",
        "    for i, filename in enumerate(files):\n",
        "        if i < num_train_files:\n",
        "            shutil.move(os.path.join(source_path, filename), train_subfolder_path)\n",
        "        else:\n",
        "            shutil.move(os.path.join(source_path, filename), validation_subfolder_path)"
      ]
    },
    {
      "cell_type": "code",
      "execution_count": null,
      "metadata": {
        "id": "Tu3HzrjLlMSp"
      },
      "outputs": [],
      "source": [
        "for subfolder_name in lst:\n",
        "    # Construct the full paths for source and destination subfolders\n",
        "    source_subfolder_path = os.path.join(source_dir, subfolder_name)\n",
        "    train_subfolder_path = os.path.join(dataset_dir, \"train\", subfolder_name)\n",
        "    validation_subfolder_path = os.path.join(dataset_dir, \"validation\", subfolder_name)\n",
        "\n",
        "    # Create the train and validation subfolders if they don't exist\n",
        "    os.makedirs(train_subfolder_path, exist_ok=True)\n",
        "    os.makedirs(validation_subfolder_path, exist_ok=True)\n",
        "\n",
        "    # Move the specified percentage of files to train and validation\n",
        "    move_files(source_subfolder_path, train_subfolder_path, split_ratio)\n",
        "    move_files(source_subfolder_path, validation_subfolder_path, 1 - split_ratio)"
      ]
    },
    {
      "cell_type": "markdown",
      "metadata": {
        "id": "z-cmDSIi3dj1"
      },
      "source": [
        "# Download dataset raw (zip)"
      ]
    },
    {
      "cell_type": "code",
      "execution_count": null,
      "metadata": {
        "colab": {
          "base_uri": "https://localhost:8080/",
          "height": 17
        },
        "id": "dRP1oJm3rrmo",
        "outputId": "0fa4225c-0b40-4baf-ae8c-394268f77697"
      },
      "outputs": [
        {
          "data": {
            "application/javascript": [
              "\n",
              "    async function download(id, filename, size) {\n",
              "      if (!google.colab.kernel.accessAllowed) {\n",
              "        return;\n",
              "      }\n",
              "      const div = document.createElement('div');\n",
              "      const label = document.createElement('label');\n",
              "      label.textContent = `Downloading \"${filename}\": `;\n",
              "      div.appendChild(label);\n",
              "      const progress = document.createElement('progress');\n",
              "      progress.max = size;\n",
              "      div.appendChild(progress);\n",
              "      document.body.appendChild(div);\n",
              "\n",
              "      const buffers = [];\n",
              "      let downloaded = 0;\n",
              "\n",
              "      const channel = await google.colab.kernel.comms.open(id);\n",
              "      // Send a message to notify the kernel that we're ready.\n",
              "      channel.send({})\n",
              "\n",
              "      for await (const message of channel.messages) {\n",
              "        // Send a message to notify the kernel that we're ready.\n",
              "        channel.send({})\n",
              "        if (message.buffers) {\n",
              "          for (const buffer of message.buffers) {\n",
              "            buffers.push(buffer);\n",
              "            downloaded += buffer.byteLength;\n",
              "            progress.value = downloaded;\n",
              "          }\n",
              "        }\n",
              "      }\n",
              "      const blob = new Blob(buffers, {type: 'application/binary'});\n",
              "      const a = document.createElement('a');\n",
              "      a.href = window.URL.createObjectURL(blob);\n",
              "      a.download = filename;\n",
              "      div.appendChild(a);\n",
              "      a.click();\n",
              "      div.remove();\n",
              "    }\n",
              "  "
            ],
            "text/plain": [
              "<IPython.core.display.Javascript object>"
            ]
          },
          "metadata": {},
          "output_type": "display_data"
        },
        {
          "data": {
            "application/javascript": [
              "download(\"download_7e7b1010-7005-4938-8ad9-0e1f68ec26a9\", \"dataset.zip\", 88234870)"
            ],
            "text/plain": [
              "<IPython.core.display.Javascript object>"
            ]
          },
          "metadata": {},
          "output_type": "display_data"
        }
      ],
      "source": [
        "from google.colab import files\n",
        "import shutil\n",
        "\n",
        "shutil.make_archive(\"dataset\", 'zip', \"dataset\")\n",
        "files.download(\"dataset.zip\")"
      ]
    },
    {
      "cell_type": "markdown",
      "metadata": {
        "id": "BnaUyRoo3htK"
      },
      "source": [
        "Clean dataset manual untuk cek file corrupt, lalu upload ke drive"
      ]
    },
    {
      "cell_type": "markdown",
      "metadata": {
        "id": "mkSeUae13oh0"
      },
      "source": [
        "# Load cleaned dataset"
      ]
    },
    {
      "cell_type": "code",
      "execution_count": null,
      "metadata": {
        "id": "mfgBGCy6vLKz"
      },
      "outputs": [],
      "source": [
        "from google.colab import auth\n",
        "auth.authenticate_user()"
      ]
    },
    {
      "cell_type": "code",
      "execution_count": null,
      "metadata": {
        "id": "t0a0rtsw108D",
        "colab": {
          "base_uri": "https://localhost:8080/"
        },
        "outputId": "5b294326-923d-4ab0-d2f0-718b824b82f6"
      },
      "outputs": [
        {
          "output_type": "stream",
          "name": "stdout",
          "text": [
            "Mounted at /content/drive\n"
          ]
        }
      ],
      "source": [
        "from google.colab import drive\n",
        "drive.mount('/content/drive')"
      ]
    },
    {
      "cell_type": "code",
      "execution_count": null,
      "metadata": {
        "id": "LqxI2fxEmL35"
      },
      "outputs": [],
      "source": [
        "train_dir = '/content/drive/MyDrive/Capstone Project/dataset clean/train'\n",
        "val_dir = '/content/drive/MyDrive/Capstone Project/dataset clean/validation'"
      ]
    },
    {
      "cell_type": "markdown",
      "metadata": {
        "id": "dwRDiejC3tuv"
      },
      "source": [
        "# Model building"
      ]
    },
    {
      "cell_type": "code",
      "execution_count": null,
      "metadata": {
        "id": "5LhWCtDAlesG"
      },
      "outputs": [],
      "source": [
        "import tensorflow as tf\n",
        "from tensorflow.keras.applications import ResNet50V2\n",
        "from tensorflow.keras.layers import Dense, GlobalAveragePooling2D, Dropout\n",
        "from tensorflow.keras.models import Model\n",
        "from tensorflow.keras.preprocessing.image import ImageDataGenerator"
      ]
    },
    {
      "cell_type": "code",
      "execution_count": null,
      "metadata": {
        "id": "m_vcWy4lmUsx"
      },
      "outputs": [],
      "source": [
        "train_datagen = ImageDataGenerator(\n",
        "    rescale=1. / 255,\n",
        "    shear_range=0.2,\n",
        "    zoom_range=0.2,\n",
        "    horizontal_flip=True)"
      ]
    },
    {
      "cell_type": "code",
      "execution_count": null,
      "metadata": {
        "id": "9OUyKzi0mdvu"
      },
      "outputs": [],
      "source": [
        "val_datagen = ImageDataGenerator(rescale=1. / 255)"
      ]
    },
    {
      "cell_type": "code",
      "execution_count": null,
      "metadata": {
        "colab": {
          "base_uri": "https://localhost:8080/"
        },
        "id": "CdLJmNdGmf32",
        "outputId": "52e0451c-54be-4e7b-e969-587164c2ce59"
      },
      "outputs": [
        {
          "output_type": "stream",
          "name": "stdout",
          "text": [
            "Found 10862 images belonging to 71 classes.\n"
          ]
        }
      ],
      "source": [
        "train_generator = train_datagen.flow_from_directory(\n",
        "    train_dir,\n",
        "    target_size=(224, 224),\n",
        "    batch_size=16,\n",
        "    class_mode='categorical')"
      ]
    },
    {
      "cell_type": "code",
      "execution_count": null,
      "metadata": {
        "colab": {
          "base_uri": "https://localhost:8080/"
        },
        "id": "IxaVnPZAmtge",
        "outputId": "7a06bcd2-5386-436e-a283-63ec1500190d"
      },
      "outputs": [
        {
          "output_type": "stream",
          "name": "stdout",
          "text": [
            "Found 2736 images belonging to 71 classes.\n"
          ]
        }
      ],
      "source": [
        "val_generator = val_datagen.flow_from_directory(\n",
        "    val_dir,\n",
        "    target_size=(224, 224),\n",
        "    batch_size=16,\n",
        "    class_mode='categorical')"
      ]
    },
    {
      "cell_type": "code",
      "execution_count": null,
      "metadata": {
        "colab": {
          "base_uri": "https://localhost:8080/"
        },
        "id": "RVAnrJlzl_36",
        "outputId": "3f839c08-a5ed-45f5-eccd-3b1c28168ba4"
      },
      "outputs": [
        {
          "output_type": "stream",
          "name": "stdout",
          "text": [
            "Downloading data from https://storage.googleapis.com/tensorflow/keras-applications/resnet/resnet50v2_weights_tf_dim_ordering_tf_kernels_notop.h5\n",
            "94668760/94668760 [==============================] - 5s 0us/step\n"
          ]
        }
      ],
      "source": [
        "base_model = ResNet50V2(weights='imagenet', include_top=False)"
      ]
    },
    {
      "cell_type": "code",
      "execution_count": null,
      "metadata": {
        "id": "Ju6apcd8mCfB"
      },
      "outputs": [],
      "source": [
        "for layer in base_model.layers[:-1]:\n",
        "  layer.trainable = False"
      ]
    },
    {
      "cell_type": "code",
      "execution_count": null,
      "metadata": {
        "id": "6CS2x4gHmE44"
      },
      "outputs": [],
      "source": [
        "#Add new layer\n",
        "x = base_model.output\n",
        "x = GlobalAveragePooling2D()(x)\n",
        "x = Dense(256, activation='relu')(x)\n",
        "x = Dropout(0.5)(x)\n",
        "x = Dense(71, activation='softmax')(x)"
      ]
    },
    {
      "cell_type": "code",
      "execution_count": null,
      "metadata": {
        "id": "xKUX6ZsimHmS"
      },
      "outputs": [],
      "source": [
        "model = Model(inputs=base_model.input, outputs=x)\n",
        "\n",
        "#Compile\n",
        "model.compile(optimizer='adam',\n",
        "              loss='categorical_crossentropy',\n",
        "              metrics=['accuracy'])"
      ]
    },
    {
      "cell_type": "code",
      "execution_count": null,
      "metadata": {
        "colab": {
          "base_uri": "https://localhost:8080/"
        },
        "id": "2Mj5M-XbEClv",
        "outputId": "fe19d5f8-7419-4aae-df78-c8102af0229a"
      },
      "outputs": [
        {
          "output_type": "stream",
          "name": "stdout",
          "text": [
            "Epoch 1/50\n"
          ]
        },
        {
          "output_type": "stream",
          "name": "stderr",
          "text": [
            "/usr/local/lib/python3.10/dist-packages/PIL/Image.py:996: UserWarning: Palette images with Transparency expressed in bytes should be converted to RGBA images\n",
            "  warnings.warn(\n"
          ]
        },
        {
          "output_type": "stream",
          "name": "stdout",
          "text": [
            "50/50 [==============================] - ETA: 0s - loss: 3.7670 - accuracy: 0.2212 "
          ]
        },
        {
          "output_type": "stream",
          "name": "stderr",
          "text": [
            "/usr/local/lib/python3.10/dist-packages/keras/src/engine/training.py:3103: UserWarning: You are saving your model as an HDF5 file via `model.save()`. This file format is considered legacy. We recommend using instead the native Keras format, e.g. `model.save('my_model.keras')`.\n",
            "  saving_api.save_model(\n"
          ]
        },
        {
          "output_type": "stream",
          "name": "stdout",
          "text": [
            "\b\b\b\b\b\b\b\b\b\b\b\b\b\b\b\b\b\b\b\b\b\b\b\b\b\b\b\b\b\b\b\b\b\b\b\b\b\b\b\b\b\b\b\b\b\b\b\b\b\b\b\b\b\b\b\b\b\b\b\b\b\b\b\b\b\b\b\b\b\b\b\b\b\b\b\b\b\b\b\b\b\b\r50/50 [==============================] - 2701s 54s/step - loss: 3.7670 - accuracy: 0.2212 - val_loss: 2.2397 - val_accuracy: 0.5329\n",
            "Epoch 2/50\n",
            "50/50 [==============================] - 653s 13s/step - loss: 2.0897 - accuracy: 0.5063 - val_loss: 1.1279 - val_accuracy: 0.7460\n",
            "Epoch 3/50\n",
            "50/50 [==============================] - 660s 13s/step - loss: 1.5316 - accuracy: 0.6212 - val_loss: 0.8084 - val_accuracy: 0.8001\n",
            "Epoch 4/50\n",
            "50/50 [==============================] - 510s 10s/step - loss: 1.2037 - accuracy: 0.6825 - val_loss: 0.6478 - val_accuracy: 0.8344\n",
            "Epoch 5/50\n",
            "50/50 [==============================] - 519s 10s/step - loss: 1.0982 - accuracy: 0.7188 - val_loss: 0.5841 - val_accuracy: 0.8523\n",
            "Epoch 6/50\n",
            "50/50 [==============================] - 464s 9s/step - loss: 0.8857 - accuracy: 0.7750 - val_loss: 0.5317 - val_accuracy: 0.8516\n",
            "Epoch 7/50\n",
            "50/50 [==============================] - 416s 8s/step - loss: 0.7702 - accuracy: 0.7788 - val_loss: 0.5151 - val_accuracy: 0.8480\n",
            "Epoch 8/50\n",
            "50/50 [==============================] - 408s 8s/step - loss: 0.6362 - accuracy: 0.8288 - val_loss: 0.4567 - val_accuracy: 0.8750\n",
            "Epoch 9/50\n",
            "50/50 [==============================] - 413s 8s/step - loss: 0.7020 - accuracy: 0.8163 - val_loss: 0.4630 - val_accuracy: 0.8816\n",
            "Epoch 10/50\n",
            "50/50 [==============================] - 341s 7s/step - loss: 0.6991 - accuracy: 0.8263 - val_loss: 0.4156 - val_accuracy: 0.8900\n",
            "Epoch 11/50\n",
            "50/50 [==============================] - 403s 8s/step - loss: 0.7090 - accuracy: 0.8138 - val_loss: 0.4201 - val_accuracy: 0.8907\n",
            "Epoch 12/50\n",
            "50/50 [==============================] - 349s 7s/step - loss: 0.5554 - accuracy: 0.8487 - val_loss: 0.3962 - val_accuracy: 0.8856\n",
            "Epoch 13/50\n",
            "50/50 [==============================] - 324s 6s/step - loss: 0.5789 - accuracy: 0.8400 - val_loss: 0.3957 - val_accuracy: 0.8951\n",
            "Epoch 14/50\n",
            "50/50 [==============================] - 275s 6s/step - loss: 0.5797 - accuracy: 0.8375 - val_loss: 0.3803 - val_accuracy: 0.8933\n",
            "Epoch 15/50\n",
            "50/50 [==============================] - 261s 5s/step - loss: 0.5115 - accuracy: 0.8662 - val_loss: 0.3658 - val_accuracy: 0.8885\n",
            "Epoch 16/50\n",
            "50/50 [==============================] - 258s 5s/step - loss: 0.5828 - accuracy: 0.8400 - val_loss: 0.3302 - val_accuracy: 0.9105\n",
            "Epoch 17/50\n",
            "50/50 [==============================] - 248s 5s/step - loss: 0.5058 - accuracy: 0.8487 - val_loss: 0.3392 - val_accuracy: 0.9112\n",
            "Epoch 18/50\n",
            "50/50 [==============================] - 253s 5s/step - loss: 0.5112 - accuracy: 0.8550 - val_loss: 0.3261 - val_accuracy: 0.9064\n",
            "Epoch 19/50\n",
            "50/50 [==============================] - 230s 5s/step - loss: 0.4879 - accuracy: 0.8525 - val_loss: 0.3401 - val_accuracy: 0.9086\n",
            "Epoch 20/50\n",
            "50/50 [==============================] - 208s 4s/step - loss: 0.4893 - accuracy: 0.8737 - val_loss: 0.2792 - val_accuracy: 0.9181\n",
            "Epoch 21/50\n",
            "50/50 [==============================] - 195s 4s/step - loss: 0.4040 - accuracy: 0.8938 - val_loss: 0.2782 - val_accuracy: 0.9207\n",
            "Epoch 22/50\n",
            "50/50 [==============================] - 207s 4s/step - loss: 0.4557 - accuracy: 0.8637 - val_loss: 0.3146 - val_accuracy: 0.9108\n",
            "Epoch 23/50\n",
            "50/50 [==============================] - 177s 4s/step - loss: 0.4578 - accuracy: 0.8587 - val_loss: 0.2732 - val_accuracy: 0.9284\n",
            "Epoch 24/50\n",
            "50/50 [==============================] - 184s 4s/step - loss: 0.3616 - accuracy: 0.9038 - val_loss: 0.2597 - val_accuracy: 0.9284\n",
            "Epoch 25/50\n",
            "50/50 [==============================] - 167s 3s/step - loss: 0.4016 - accuracy: 0.8913 - val_loss: 0.2685 - val_accuracy: 0.9269\n",
            "Epoch 26/50\n",
            "50/50 [==============================] - 171s 3s/step - loss: 0.3549 - accuracy: 0.8938 - val_loss: 0.2635 - val_accuracy: 0.9331\n",
            "Epoch 27/50\n",
            "50/50 [==============================] - 163s 3s/step - loss: 0.3829 - accuracy: 0.8863 - val_loss: 0.2616 - val_accuracy: 0.9320\n",
            "Epoch 28/50\n",
            "50/50 [==============================] - 151s 3s/step - loss: 0.3901 - accuracy: 0.8850 - val_loss: 0.2447 - val_accuracy: 0.9291\n",
            "Epoch 29/50\n",
            "50/50 [==============================] - 145s 3s/step - loss: 0.3555 - accuracy: 0.8963 - val_loss: 0.2431 - val_accuracy: 0.9331\n",
            "Epoch 30/50\n",
            "50/50 [==============================] - 131s 3s/step - loss: 0.3306 - accuracy: 0.8950 - val_loss: 0.2711 - val_accuracy: 0.9273\n",
            "Epoch 31/50\n",
            "50/50 [==============================] - 148s 3s/step - loss: 0.3815 - accuracy: 0.8950 - val_loss: 0.2450 - val_accuracy: 0.9320\n",
            "Epoch 32/50\n",
            "50/50 [==============================] - 152s 3s/step - loss: 0.3398 - accuracy: 0.8963 - val_loss: 0.2303 - val_accuracy: 0.9375\n",
            "Epoch 33/50\n",
            "50/50 [==============================] - 119s 2s/step - loss: 0.3815 - accuracy: 0.8875 - val_loss: 0.2416 - val_accuracy: 0.9287\n",
            "Epoch 34/50\n",
            "50/50 [==============================] - 128s 3s/step - loss: 0.3285 - accuracy: 0.8988 - val_loss: 0.2212 - val_accuracy: 0.9419\n",
            "Epoch 35/50\n",
            "50/50 [==============================] - 146s 3s/step - loss: 0.3135 - accuracy: 0.9038 - val_loss: 0.2526 - val_accuracy: 0.9317\n",
            "Epoch 36/50\n",
            "50/50 [==============================] - 107s 2s/step - loss: 0.3108 - accuracy: 0.9125 - val_loss: 0.2202 - val_accuracy: 0.9393\n",
            "Epoch 37/50\n",
            "50/50 [==============================] - 132s 3s/step - loss: 0.2904 - accuracy: 0.9225 - val_loss: 0.2192 - val_accuracy: 0.9437\n",
            "Epoch 38/50\n",
            "50/50 [==============================] - 123s 2s/step - loss: 0.3248 - accuracy: 0.8950 - val_loss: 0.2076 - val_accuracy: 0.9437\n",
            "Epoch 39/50\n",
            "50/50 [==============================] - 142s 3s/step - loss: 0.2863 - accuracy: 0.9137 - val_loss: 0.2310 - val_accuracy: 0.9371\n",
            "Epoch 40/50\n",
            "50/50 [==============================] - 110s 2s/step - loss: 0.3795 - accuracy: 0.8950 - val_loss: 0.2228 - val_accuracy: 0.9393\n",
            "Epoch 41/50\n",
            "50/50 [==============================] - 114s 2s/step - loss: 0.3107 - accuracy: 0.9112 - val_loss: 0.2137 - val_accuracy: 0.9452\n",
            "Epoch 42/50\n",
            "50/50 [==============================] - 104s 2s/step - loss: 0.3807 - accuracy: 0.9013 - val_loss: 0.2297 - val_accuracy: 0.9382\n",
            "Epoch 43/50\n",
            "50/50 [==============================] - 108s 2s/step - loss: 0.3282 - accuracy: 0.9087 - val_loss: 0.2008 - val_accuracy: 0.9437\n",
            "Epoch 44/50\n",
            "50/50 [==============================] - 115s 2s/step - loss: 0.3726 - accuracy: 0.8950 - val_loss: 0.1979 - val_accuracy: 0.9536\n",
            "Epoch 45/50\n",
            "50/50 [==============================] - 106s 2s/step - loss: 0.2950 - accuracy: 0.9112 - val_loss: 0.2028 - val_accuracy: 0.9474\n",
            "Epoch 46/50\n",
            "50/50 [==============================] - 100s 2s/step - loss: 0.3599 - accuracy: 0.8825 - val_loss: 0.2155 - val_accuracy: 0.9459\n",
            "Epoch 47/50\n",
            "50/50 [==============================] - 119s 2s/step - loss: 0.2789 - accuracy: 0.9162 - val_loss: 0.2034 - val_accuracy: 0.9485\n",
            "Epoch 48/50\n",
            "50/50 [==============================] - 104s 2s/step - loss: 0.3271 - accuracy: 0.9013 - val_loss: 0.1837 - val_accuracy: 0.9550\n",
            "Epoch 49/50\n",
            "50/50 [==============================] - 96s 2s/step - loss: 0.2717 - accuracy: 0.9137 - val_loss: 0.2046 - val_accuracy: 0.9433\n",
            "Epoch 50/50\n",
            "50/50 [==============================] - 97s 2s/step - loss: 0.2481 - accuracy: 0.9237 - val_loss: 0.1745 - val_accuracy: 0.9518\n"
          ]
        },
        {
          "output_type": "execute_result",
          "data": {
            "text/plain": [
              "<keras.src.callbacks.History at 0x7f80a4058760>"
            ]
          },
          "metadata": {},
          "execution_count": 23
        }
      ],
      "source": [
        "from tensorflow.keras.callbacks import ModelCheckpoint, EarlyStopping\n",
        "\n",
        "#Callback\n",
        "checkpoint = ModelCheckpoint('model72class.h5', monitor='val_loss', save_best_only=True, mode='min')\n",
        "early_stopping = EarlyStopping(monitor='val_loss', patience=10, mode='min')\n",
        "\n",
        "#Training\n",
        "model.fit(\n",
        "    train_generator,\n",
        "    steps_per_epoch=50,\n",
        "    epochs=50,  # Coba jumlah epoch yang lebih tinggi dengan early stopping\n",
        "    validation_data=val_generator,\n",
        "    validation_steps=len(val_generator),\n",
        "    callbacks=[checkpoint, early_stopping])"
      ]
    },
    {
      "cell_type": "markdown",
      "metadata": {
        "id": "Nm_nPJbIIyqR"
      },
      "source": [
        "### Print index dataset (label)"
      ]
    },
    {
      "cell_type": "code",
      "execution_count": null,
      "metadata": {
        "colab": {
          "base_uri": "https://localhost:8080/"
        },
        "id": "FN8R19xFIxf1",
        "outputId": "770468e1-8a66-402a-e897-39e7c97377eb"
      },
      "outputs": [
        {
          "output_type": "stream",
          "name": "stdout",
          "text": [
            "{'bantal': 0, 'beruang': 1, 'botol minum': 2, 'buah belimbing': 3, 'buah kelengkeng': 4, 'buah kesemek': 5, 'buah leci': 6, 'buah manggis': 7, 'buah markisa': 8, 'buah naga': 9, 'buah nangka': 10, 'buah pepaya': 11, 'buah semangka': 12, 'buah sirsak': 13, 'burung': 14, 'dompet': 15, 'durian': 16, 'gajah': 17, 'garpu': 18, 'gelas': 19, 'gunting': 20, 'jam dinding': 21, 'jam tangan': 22, 'jeruk bali': 23, 'kacamata': 24, 'kangguru': 25, 'kantong plastik': 26, 'kasur': 27, 'katak': 28, 'kertas': 29, 'komputer': 30, 'korek api': 31, 'kucing': 32, 'kulkas': 33, 'kumbang': 34, 'kunci (1)': 35, 'kupu-kupu': 36, 'kursi': 37, 'langit': 38, 'laptop': 39, 'lebah': 40, 'lemari': 41, 'mangkuk': 42, 'meja': 43, 'mesin jahit': 44, 'mobil': 45, 'motor': 46, 'paus': 47, 'payung': 48, 'penanda jalan': 49, 'penggaris': 50, 'pensil (1)': 51, 'piring': 52, 'pisau': 53, 'pot bunga': 54, 'rambutan': 55, 'ransel': 56, 'salak': 57, 'sapi': 58, 'sapu': 59, 'sendok': 60, 'sepeda': 61, 'setrika': 62, 'singa': 63, 'stopkontak': 64, 'tas': 65, 'telepon genggam': 66, 'timbangan dapur': 67, 'tomat': 68, 'topi': 69, 'uang': 70}\n"
          ]
        }
      ],
      "source": [
        "class_indices = train_generator.class_indices\n",
        "print(class_indices)"
      ]
    },
    {
      "cell_type": "code",
      "source": [
        "import csv\n",
        "# Tentukan nama file CSV yang ingin Anda buat\n",
        "csv_filename = 'class_indices.csv'\n",
        "\n",
        "# Buka file CSV untuk menulis\n",
        "with open(csv_filename, 'w', newline='') as csvfile:\n",
        "    # Tentukan header untuk file CSV\n",
        "    fieldnames = ['class_name', 'class_index']\n",
        "    writer = csv.DictWriter(csvfile, fieldnames=fieldnames)\n",
        "\n",
        "    # Tulis header\n",
        "    writer.writeheader()\n",
        "\n",
        "    # Tulis setiap baris dengan nama kelas dan indeksnya\n",
        "    for class_name, class_index in class_indices.items():\n",
        "        writer.writerow({'class_name': class_name, 'class_index': class_index})"
      ],
      "metadata": {
        "id": "SR6b0ZTNskVn"
      },
      "execution_count": null,
      "outputs": []
    },
    {
      "cell_type": "markdown",
      "source": [
        "# Mengconvert TF keras ke TFLite"
      ],
      "metadata": {
        "id": "-kDMIjGHpLQO"
      }
    },
    {
      "cell_type": "code",
      "source": [
        "import tensorflow as tf\n",
        "from tensorflow.keras.models import load_model, Model\n",
        "from tensorflow.keras.layers import Input"
      ],
      "metadata": {
        "id": "gVNem57mpz3n"
      },
      "execution_count": null,
      "outputs": []
    },
    {
      "cell_type": "code",
      "execution_count": null,
      "metadata": {
        "id": "ZbZmcL7rKDUd"
      },
      "outputs": [],
      "source": [
        "#Load model .h5\n",
        "keras_model_path = '/content/drive/MyDrive/Capstone Project/model/model72class.h5'\n",
        "model = load_model(keras_model_path)"
      ]
    },
    {
      "cell_type": "code",
      "source": [
        "#Ubah input layer\n",
        "input_layer = Input(shape=(224, 224, 3))\n",
        "new_model = Model(inputs=input_layer, outputs=model(input_layer))"
      ],
      "metadata": {
        "id": "AK6XTub9pgbK"
      },
      "execution_count": null,
      "outputs": []
    },
    {
      "cell_type": "code",
      "source": [
        "#Cek input shape yang baru\n",
        "print(\"New model input shape:\", new_model.input_shape)"
      ],
      "metadata": {
        "id": "06LFM7s6pwlw",
        "colab": {
          "base_uri": "https://localhost:8080/"
        },
        "outputId": "446ea33d-57ae-4672-d45b-a2af0339110a"
      },
      "execution_count": null,
      "outputs": [
        {
          "output_type": "stream",
          "name": "stdout",
          "text": [
            "New model input shape: (None, 224, 224, 3)\n"
          ]
        }
      ]
    },
    {
      "cell_type": "code",
      "source": [
        "#Konversi model ke TFLite\n",
        "converter = tf.lite.TFLiteConverter.from_keras_model(new_model)\n",
        "tflite_model = converter.convert()"
      ],
      "metadata": {
        "id": "IaBcigEspnQq"
      },
      "execution_count": null,
      "outputs": []
    },
    {
      "cell_type": "code",
      "source": [
        "#Simpan model TFLite\n",
        "tflite_model_path = '/content/drive/MyDrive/Capstone Project/model/model.tflite'\n",
        "with open(tflite_model_path, 'wb') as f:\n",
        "    f.write(tflite_model)"
      ],
      "metadata": {
        "id": "Lrp21XmYptBK"
      },
      "execution_count": null,
      "outputs": []
    }
  ],
  "metadata": {
    "accelerator": "GPU",
    "colab": {
      "gpuType": "T4",
      "provenance": []
    },
    "kernelspec": {
      "display_name": "Python 3",
      "name": "python3"
    },
    "language_info": {
      "name": "python"
    }
  },
  "nbformat": 4,
  "nbformat_minor": 0
}